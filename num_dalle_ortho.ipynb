{
  "nbformat": 4,
  "nbformat_minor": 0,
  "metadata": {
    "colab": {
      "provenance": [],
      "authorship_tag": "ABX9TyOgQkHoz5lqERHwv6wOaM2y"
    },
    "kernelspec": {
      "name": "python3",
      "display_name": "Python 3"
    },
    "language_info": {
      "name": "python"
    }
  },
  "cells": [
    {
      "cell_type": "code",
      "source": [
        "import numpy as np\n"
      ],
      "metadata": {
        "id": "Aqbl-sl1jDf0"
      },
      "execution_count": null,
      "outputs": []
    },
    {
      "cell_type": "markdown",
      "source": [
        "### Fonction `trouver_dalle_hectometre_pair`\n",
        "\n",
        "#### Description\n",
        "Cette fonction calcule le coin d'une dalle dans laquelle un point donné en projection Lambert-93 (EPSG:2154) est situé. Les dalles mesurent 200m x 200m, et les coordonnées du coin supérieur gauche sont des multiples pairs de 100 mètres. La fonction renvoie le nom de la dalle sous la forme 'x_y', où 'x'\n",
        "\n",
        "#### Arguments\n",
        "- `x` (float): Coordonnée X du point en Lambert-93, qui représente la longitude du point.\n",
        "- `y` (float): Coordonnée Y du point en Lambert-93, qui représente la latitude du point.\n",
        "\n",
        "#### Retour\n",
        "- **Type** : str\n",
        "- **Description** : Retourne le nom de la dalle sous la forme 'x_y'. 'x' est la coordonnée du coin supérieur gauche tous deux exprimés en hectomètres.\n"
      ],
      "metadata": {
        "id": "M4uMq_trwcLs"
      }
    },
    {
      "cell_type": "code",
      "execution_count": null,
      "metadata": {
        "id": "n6F0CNp2i9yu"
      },
      "outputs": [],
      "source": [
        "def trouver_dalle_hectometre_pair(x, y):\n",
        "\n",
        "    # Calcul du coin supérieur gauche de la dalle en mètres pour X Y\n",
        "    x_dalle = np.floor(x / 200) * 200\n",
        "    y_dalle = np.floor(y / 200) * 200 + 200\n",
        "\n",
        "    # Conversion en hectomètres\n",
        "    x_hm = int(x_dalle / 100)\n",
        "    y_hm = int(y_dalle / 100)\n",
        "\n",
        "    # Formatage du résultat en 'x_y'\n",
        "    dalle_nom = f\"{x_hm}_{y_hm}\"\n",
        "\n",
        "    return dalle_nom\n"
      ]
    },
    {
      "cell_type": "code",
      "source": [
        "# Exemple d'utilisation\n",
        "x, y = 796700.85,6302710.26  # Coordonnées en Lambert-93\n",
        "dalle_nom = trouver_dalle_hectometre_pair(x, y)\n",
        "print(f\"Le nom de la dalle est: {dalle_nom}\")"
      ],
      "metadata": {
        "colab": {
          "base_uri": "https://localhost:8080/"
        },
        "id": "N04Lp0gsjGAA",
        "outputId": "0ffe6fde-8d18-4ee9-a5c0-22612928de08"
      },
      "execution_count": null,
      "outputs": [
        {
          "output_type": "stream",
          "name": "stdout",
          "text": [
            "Le nom de la dalle est: 7966_63028\n"
          ]
        }
      ]
    },
    {
      "cell_type": "markdown",
      "source": [
        "796700.85,6302710.26"
      ],
      "metadata": {
        "id": "ZBfbi2DwmB-P"
      }
    },
    {
      "cell_type": "markdown",
      "source": [
        "Verifie que le polygone est totalement dans une dalle et renvoie la dalle"
      ],
      "metadata": {
        "id": "z6h1f4Oysz6A"
      }
    },
    {
      "cell_type": "code",
      "source": [
        "def dalle_pour_point(x, y):\n",
        "    \"\"\"\n",
        "    Calcule le coin supérieur gauche de la dalle en hectomètres pour un point donné.\n",
        "    \"\"\"\n",
        "    x_dalle = np.floor(x / 200) * 200\n",
        "    y_dalle = np.floor(y / 200) * 200 + 200\n",
        "    return int(x_dalle / 100), int(y_dalle / 100)"
      ],
      "metadata": {
        "id": "5XeUZc6UqyY4"
      },
      "execution_count": null,
      "outputs": []
    },
    {
      "cell_type": "code",
      "source": [
        "def verifier_polygone_dans_une_dalle(coords):\n",
        "    \"\"\"\n",
        "    Vérifie si les quatre points d'un polygone sont inclus dans une seule dalle ou non.\n",
        "\n",
        "    Args:\n",
        "    coords (list of tuples): Liste des coordonnées (x, y) des quatre coins du polygone en Lambert-93.\n",
        "\n",
        "    Returns:\n",
        "    str: Nom de la dalle sous la forme 'x_y' si tous les coins sont dans une seule dalle,\n",
        "         ou 'hors dalle' si le polygone n'est pas entièrement dans une seule dalle.\n",
        "    \"\"\"\n",
        "    # Calculer la dalle pour chaque coin\n",
        "    dalles = [dalle_pour_point(x, y) for x, y in coords]\n",
        "\n",
        "    # Vérifier si tous les coins sont dans la même dalle\n",
        "    if all(dalle == dalles[0] for dalle in dalles):\n",
        "        return f\"{dalles[0][0]}_{dalles[0][1]}\"\n",
        "    else:\n",
        "        return \"hors dalle\"\n"
      ],
      "metadata": {
        "id": "nJkscZDvqoXe"
      },
      "execution_count": null,
      "outputs": []
    },
    {
      "cell_type": "code",
      "source": [
        "coords = [(796700.85,6302710.26), (796700.85,6302710.26), (796700.85,6302710.26), (796700.85,6302710.26)]\n",
        "resultat = verifier_polygone_dans_une_dalle(coords)\n",
        "print(resultat)"
      ],
      "metadata": {
        "colab": {
          "base_uri": "https://localhost:8080/"
        },
        "id": "j270mSAKqt1v",
        "outputId": "9c675e75-a6d1-4eff-b24e-f4e6d9935645"
      },
      "execution_count": null,
      "outputs": [
        {
          "output_type": "stream",
          "name": "stdout",
          "text": [
            "7966_63028\n"
          ]
        }
      ]
    },
    {
      "cell_type": "markdown",
      "source": [
        "Version classe"
      ],
      "metadata": {
        "id": "6T7VNkS4sul5"
      }
    },
    {
      "cell_type": "markdown",
      "source": [
        "### Classe `DalleManager`\n",
        "\n",
        "#### Description\n",
        "La classe `DalleManager` sert à manipuler et vérifier l'emplacement de points ou de polygones dans un système de grille défini par des dalles de 200 mètres par 200 mètres, où chaque dalle est représentée en hectomètres. Elle offre des méthodes pour déterminer la dalle correspondante à un point donné et pour vérifier si un polygone est entièrement contenu dans une seule dalle.\n",
        "\n",
        "#### Méthodes\n",
        "\n",
        "- ###### `__init__(self)`\n",
        "  - **Description** : Constructeur de la classe. Actuellement, il ne fait rien de spécifique (pass).\n",
        "\n",
        "- ###### `dalle_pour_point(self, x, y)`\n",
        "  - **Arguments** :\n",
        "    - `x` (float): Coordonnée X du point en Lambert-93.\n",
        "    - `y` (float): Coordonnée Y du point en Lambert-93.\n",
        "  - **Retour** : Tuple de deux entiers (int, int), représentant les coordonnées en hectomètres du coin supérieur gauche de la dalle qui contient le point donné.\n",
        "  - **Description** : Calcule le coin supérieur gauche de la dalle correspondant au point spécifié. La dalle est définie sur une grille de 200x200 mètres, mais les coordonnées du coin sont renvoyées en hectomètres. La coordonnée Y est ajustée pour pointer vers le bas de la dalle.\n",
        "\n",
        "- ###### `verifier_polygone_dans_une_dalle(self, coords)`\n",
        "  - **Arguments** :\n",
        "    - `coords` (list of tuples): Liste des coordonnées (x, y) des quatre coins du polygone, supposés en Lambert-93.\n",
        "  - **Retour** : Chaîne de caractères (str), soit le nom de la dalle sous la forme 'x_y' si tous les coins du polygone sont dans la même dalle, soit 'hors dalle' si les coins se trouvent dans différentes dalles.\n",
        "  - **Description** : Vérifie si un polygone défini par quatre points est entièrement contenu dans une seule dalle. Si tous les coins sont dans la même dalle, le nom de cette dalle est retourné. Si les coins sont dans des dalles différentes, la méthode retourne \"hors dalle\".\n"
      ],
      "metadata": {
        "id": "QQZgYW3Yty7m"
      }
    },
    {
      "cell_type": "code",
      "source": [
        "import numpy as np\n",
        "\n",
        "class DalleManager:\n",
        "    def __init__(self):\n",
        "        pass\n",
        "\n",
        "    def dalle_pour_point(self, x, y):\n",
        "        \"\"\"\n",
        "        Calcule le coin supérieur gauche de la dalle en hectomètres pour un point donné.\n",
        "        \"\"\"\n",
        "        x_dalle = np.floor(x / 200) * 200\n",
        "        y_dalle = np.floor(y / 200) * 200 + 200\n",
        "        return int(x_dalle / 100), int(y_dalle / 100)\n",
        "\n",
        "    def verifier_polygone_dans_une_dalle(self, coords):\n",
        "        \"\"\"\n",
        "        Vérifie si les quatre points d'un polygone sont inclus dans une seule dalle ou non.\n",
        "\n",
        "        Args:\n",
        "        coords (list of tuples): Liste des coordonnées (x, y) des quatre coins du polygone en Lambert-93.\n",
        "\n",
        "        Returns:\n",
        "        str: Nom de la dalle sous la forme 'x_y' si tous les coins sont dans une seule dalle,\n",
        "             ou 'hors dalle' si le polygone n'est pas entièrement dans une seule dalle.\n",
        "        \"\"\"\n",
        "        # Calculer la dalle pour chaque coin\n",
        "        dalles = [self.dalle_pour_point(x, y) for x, y in coords]\n",
        "\n",
        "        # Vérifier si tous les coins sont dans la même dalle\n",
        "        if all(dalle == dalles[0] for dalle in dalles):\n",
        "            return f\"{dalles[0][0]}_{dalles[0][1]}\"\n",
        "        else:\n",
        "            return \"hors dalle\"\n",
        "\n"
      ],
      "metadata": {
        "id": "CM_JEv-ssEzH"
      },
      "execution_count": null,
      "outputs": []
    },
    {
      "cell_type": "code",
      "source": [
        "# Instance de la classe DalleManager\n",
        "dalle_manager = DalleManager()\n",
        "\n",
        "# Coordonnées d'un point spécifique en Lambert-93\n",
        "x = 796700.85\n",
        "y = 6302710.26\n",
        "\n",
        "# Obtenir la dalle pour le point donné\n",
        "dalle = dalle_manager.dalle_pour_point(x, y)\n",
        "\n",
        "# Afficher les coordonnées de la dalle\n",
        "print(f\"Le coin supérieur gauche de la dalle est en hectomètres: {dalle[0]}_{dalle[1]}\")"
      ],
      "metadata": {
        "colab": {
          "base_uri": "https://localhost:8080/"
        },
        "id": "BXVU5tB9sZUM",
        "outputId": "d9aad347-735b-46ba-df0e-bbf28efd723e"
      },
      "execution_count": null,
      "outputs": [
        {
          "output_type": "stream",
          "name": "stdout",
          "text": [
            "Le coin supérieur gauche de la dalle est en hectomètres: 7966_63028\n"
          ]
        }
      ]
    },
    {
      "cell_type": "code",
      "source": [
        "# Exemple d'utilisation\n",
        "dalle_manager = DalleManager()\n",
        "coords = [(796795.74,6302603.69), (796795.74,6302603.69), (796795.74,6302603.69), (796795.74,6302603.69)]\n",
        "resultat = dalle_manager.verifier_polygone_dans_une_dalle(coords)\n",
        "print(resultat)"
      ],
      "metadata": {
        "colab": {
          "base_uri": "https://localhost:8080/"
        },
        "id": "OBafFLTBsgh4",
        "outputId": "53c5c94a-9e32-4ebc-d889-7e8ae6173651"
      },
      "execution_count": null,
      "outputs": [
        {
          "output_type": "stream",
          "name": "stdout",
          "text": [
            "7966_63028\n"
          ]
        }
      ]
    },
    {
      "cell_type": "code",
      "source": [
        "# Exemple d'utilisation\n",
        "dalle_manager = DalleManager()\n",
        "coords = [(796588.59,6302767.25), (796700.85,6302710.26), (796700.85,6302710.26), (796700.85,6302710.26)]\n",
        "resultat = dalle_manager.verifier_polygone_dans_une_dalle(coords)\n",
        "print(resultat)"
      ],
      "metadata": {
        "colab": {
          "base_uri": "https://localhost:8080/"
        },
        "id": "DMo3XhzEtLw0",
        "outputId": "548e80fe-0f1d-43a6-f709-aec5e8dabea4"
      },
      "execution_count": null,
      "outputs": [
        {
          "output_type": "stream",
          "name": "stdout",
          "text": [
            "hors dalle\n"
          ]
        }
      ]
    }
  ]
}